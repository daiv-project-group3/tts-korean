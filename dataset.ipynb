{
 "cells": [
  {
   "cell_type": "code",
   "execution_count": 1,
   "metadata": {},
   "outputs": [
    {
     "name": "stderr",
     "output_type": "stream",
     "text": [
      "c:\\Users\\haesol\\AppData\\Local\\Programs\\Python\\Python311\\Lib\\site-packages\\tqdm\\auto.py:21: TqdmWarning: IProgress not found. Please update jupyter and ipywidgets. See https://ipywidgets.readthedocs.io/en/stable/user_install.html\n",
      "  from .autonotebook import tqdm as notebook_tqdm\n"
     ]
    }
   ],
   "source": [
    "import torch\n",
    "from torch.utils.data import Dataset\n",
    "from datasets import load_dataset\n",
    "from sklearn.model_selection import train_test_split\n",
    "import numpy as np"
   ]
  },
  {
   "cell_type": "code",
   "execution_count": 2,
   "metadata": {},
   "outputs": [],
   "source": [
    "\n",
    "class KSSDataset(Dataset):\n",
    "    def __init__(self, split='train', valid_size=0.1, seed=42):\n",
    "        super().__init__()\n",
    "        \n",
    "        # 데이터셋 로드\n",
    "        dataset = load_dataset(\"Bingsu/KSS_Dataset\")\n",
    "        full_dataset = dataset['train']\n",
    "        \n",
    "        # train/valid 분할\n",
    "        train_idx, valid_idx = train_test_split(\n",
    "            range(len(full_dataset)),\n",
    "            test_size=valid_size,\n",
    "            random_state=seed\n",
    "        )\n",
    "        \n",
    "        # split에 따라 인덱스 선택\n",
    "        self.indices = train_idx if split == 'train' else valid_idx\n",
    "        self.dataset = full_dataset\n",
    "        \n",
    "    def __len__(self):\n",
    "        return len(self.indices)\n",
    "    \n",
    "    def __getitem__(self, idx):\n",
    "        real_idx = self.indices[idx]\n",
    "        item = self.dataset[real_idx]\n",
    "        \n",
    "        # 오디오 로드 및 리샘플링\n",
    "        audio = torch.from_numpy(item['audio']['array']).float()\n",
    "        original_sr = item['audio']['sampling_rate']\n",
    "        \n",
    "        if original_sr != self.target_sr:\n",
    "            resampler = torchaudio.transforms.Resample(\n",
    "                orig_freq=original_sr,\n",
    "                new_freq=self.target_sr\n",
    "            )\n",
    "            audio = resampler(audio)\n",
    "        \n",
    "        return {\n",
    "            'audio': audio,\n",
    "            'text': item['original_script'],\n",
    "            'sampling_rate': self.target_sr\n",
    "        }"
   ]
  },
  {
   "cell_type": "code",
   "execution_count": null,
   "metadata": {},
   "outputs": [],
   "source": []
  }
 ],
 "metadata": {
  "kernelspec": {
   "display_name": "Python 3",
   "language": "python",
   "name": "python3"
  },
  "language_info": {
   "codemirror_mode": {
    "name": "ipython",
    "version": 3
   },
   "file_extension": ".py",
   "mimetype": "text/x-python",
   "name": "python",
   "nbconvert_exporter": "python",
   "pygments_lexer": "ipython3",
   "version": "3.11.9"
  }
 },
 "nbformat": 4,
 "nbformat_minor": 2
}
